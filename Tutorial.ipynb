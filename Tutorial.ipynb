{
 "cells": [
  {
   "cell_type": "markdown",
   "metadata": {},
   "source": [
    "# Mini Option Pricer Tutorial\n",
    "------\n",
    "## 1. European Option Pricer\n",
    "`mini_option_pricer.euro_option_pricer` \n",
    "- *Initialize with parameters : future_type, asset_price, strike_price,  mature_time, vol, rate,repo_q*\n",
    "- *future type : {'c', 'p'}*\n",
    "- *maturity time is in year*"
   ]
  },
  {
   "cell_type": "code",
   "execution_count": 6,
   "metadata": {
    "collapsed": false
   },
   "outputs": [
    {
     "name": "stdout",
     "output_type": "stream",
     "text": [
      "The option value is $ 22.0891500412 \n"
     ]
    }
   ],
   "source": [
    "import euro_option_pricer as eop\n",
    "\n",
    "# Create a european option class\n",
    "eopx=eop.euro_opt('c',100,80,0.5,0.3,0.02,0)\n",
    "# return its value\n",
    "print('The option value is $ %s '% eopx.value())"
   ]
  },
  {
   "cell_type": "markdown",
   "metadata": {},
   "source": [
    "## 2. Implied Volatility Calculation\n",
    "`mini_option_pricer.implied_vol` \n",
    "- *Initialize with parameters : Type,S0,K,T,r,q,V,tol=1e-8,sigmadiff=1,iter_num=200*\n",
    "- *future type : {'c', 'p'}*\n",
    "- *maturity time is in year*\n",
    "- *q : repo rate*\n",
    "- *V : observable value of option*"
   ]
  },
  {
   "cell_type": "code",
   "execution_count": 10,
   "metadata": {
    "collapsed": false
   },
   "outputs": [
    {
     "data": {
      "text/plain": [
       "3.6480558559801208"
      ]
     },
     "execution_count": 10,
     "metadata": {},
     "output_type": "execute_result"
    }
   ],
   "source": [
    "import implied_vol as ipv\n",
    "\n",
    "ipv.imp_vol('c',100,80,0.5,0.02,0,82.5)"
   ]
  },
  {
   "cell_type": "markdown",
   "metadata": {
    "collapsed": true
   },
   "source": [
    "## 3. Binary Tree Option Pricer\n",
    "`binarytree_option_pricer.binarytree_option_pricer` \n",
    "- *Initialize with parameters : type, S0, K, T, sigma, r, q*\n",
    "- *future type : {'eucall', 'euput', 'amcall', 'amput'}*\n",
    "- *maturity time is in year*\n",
    "- *q : repo rate*\n",
    "- *sigma : the volatility*"
   ]
  },
  {
   "cell_type": "code",
   "execution_count": 14,
   "metadata": {
    "collapsed": false
   },
   "outputs": [
    {
     "name": "stdout",
     "output_type": "stream",
     "text": [
      "The option value is $ 22.0963031602 \n"
     ]
    }
   ],
   "source": [
    "import binarytree_option_pricer as bop\n",
    "# Create a binary tree class\n",
    "bopx=bop.BinaryTree('amcall',100,80,0.5,0.3,0.02,0)\n",
    "# Binary tree valuation model,using steps=50 which makes the result approach to the first example\n",
    "print('The option value is $ %s '% bopx.bt(steps=50))"
   ]
  },
  {
   "cell_type": "markdown",
   "metadata": {
    "collapsed": true
   },
   "source": [
    "## 4. Asian Option Pricer\n",
    "### 4.1 Geometirc Asian Option Pricer\n",
    "`mini_option_pricer.geoasian_option_pricer` \n",
    "- *Initialize with parameters : future_type, asset_price,mature_time,strike_price,rate,vol,n*\n",
    "- *future type : {'c', 'p'}*\n",
    "- *maturity time is in year*\n",
    "- *rate : risk free interest rate*\n",
    "- *n : Δt= T / n *"
   ]
  },
  {
   "cell_type": "code",
   "execution_count": 18,
   "metadata": {
    "collapsed": false
   },
   "outputs": [
    {
     "name": "stdout",
     "output_type": "stream",
     "text": [
      "The option value is $ 24.3475211006 \n"
     ]
    }
   ],
   "source": [
    "import geoasian_option_pricer as gaop\n",
    "# Create a geometric asian option\n",
    "gaopx=gaop.geoasian_opt('c',100,3,80,0.05,0.3,50)\n",
    "# Get the value of option\n",
    "print('The option value is $ %s '% gaopx.value())"
   ]
  },
  {
   "cell_type": "markdown",
   "metadata": {},
   "source": [
    "### 4.2 Arithmetic Asian Option Pricer\n",
    "`mini_option_pricer.geoasian_option_pricer` \n",
    "- *Initialize with parameters : future_type, asset_price,mature_time,strike_price,rate,vol,n,path=100000,ctl_var=True*\n",
    "- *future type : {'c', 'p'}*\n",
    "- *maturity time is in year*\n",
    "- *rate : risk free interest rate*\n",
    "- *n : Δt= T / n *\n",
    "- *path : the number of monte carlo path*\n",
    "- *ctl_var= default with 'True', with only arithmetic for 'False'*"
   ]
  },
  {
   "cell_type": "code",
   "execution_count": 31,
   "metadata": {
    "collapsed": false
   },
   "outputs": [
    {
     "name": "stdout",
     "output_type": "stream",
     "text": [
      "The option value is $ 25.0536704664 \n",
      "95% confidence interval is [25.024604342165208, 25.082736590593559]\n"
     ]
    }
   ],
   "source": [
    "import aritasian_option_pricer as aaop\n",
    "# Create a Arithmetic Asian Option\n",
    "aaopx=aaop.aritasian_opt('c',100,3,80,0.05,0.3,50,path=1000)\n",
    "# aaop.value() : return the option price and 95% confidence interval\n",
    "value=aaopx.value()\n",
    "print('The option value is $ %s '% value[0])\n",
    "print('95% confidence interval is',value[1])"
   ]
  },
  {
   "cell_type": "markdown",
   "metadata": {},
   "source": [
    "## 5. Basket Option Pricer\n",
    "### 5.1 Geometirc Basket Option Pricer\n",
    "`mini_option_pricer.geobasket_option_pricer` \n",
    "- *Initialize with parameters : future_type, asset_price1, asset_price2,mature_time,strike_price,rate,vol1,vol2,rol*\n",
    "- *future type : {'c', 'p'}*\n",
    "- *maturity time is in year*\n",
    "- *rate : risk free interest rate*\n",
    "- *rol : the correlation between asset1 and asset2*"
   ]
  },
  {
   "cell_type": "code",
   "execution_count": 32,
   "metadata": {
    "collapsed": false
   },
   "outputs": [
    {
     "name": "stdout",
     "output_type": "stream",
     "text": [
      "The option value is $ 32.5362562867 \n"
     ]
    }
   ],
   "source": [
    "import geobasket_option_pricer as gbop\n",
    "# Create a geometric basket option class\n",
    "gbopx=gbop.geobasket_opt('c',100,100,3,80,0.05,0.3,0.3,0.5)\n",
    "# Get the value of option\n",
    "print('The option value is $ %s '% gbopx.value())"
   ]
  },
  {
   "cell_type": "markdown",
   "metadata": {},
   "source": [
    "### 5.2 Arithmetirc Basket Option Pricer\n",
    "`mini_option_pricer.aritbasket_option_pricer` \n",
    "- *Initialize with parameters : future_type, asset_price1, asset_price2,mature_time,strike_price,rate,vol1,vol2,rol,path=100000,ctl_var=True*\n",
    "- *future type : {'c', 'p'}*\n",
    "- *maturity time is in year*\n",
    "- *rate : risk free interest rate*\n",
    "- *rol : the correlation between asset1 and asset2*"
   ]
  },
  {
   "cell_type": "code",
   "execution_count": 33,
   "metadata": {
    "collapsed": false
   },
   "outputs": [
    {
     "name": "stdout",
     "output_type": "stream",
     "text": [
      "The option value is $ 30.4488455023 \n",
      "95% confidence interval is [30.440911369004272, 30.456779635644605]\n"
     ]
    }
   ],
   "source": [
    "import aritbasket_option_pricer as abop\n",
    "# Create an arithmetic option class\n",
    "abopx=abop.aritbasket_opt('c',100,100,3,80,0.05,0.3,0.3,0.5)\n",
    "# aaop.value() : return the option price and 95% confidence interval\n",
    "value=abopx.value()\n",
    "print('The option value is $ %s '% value[0])\n",
    "print('95% confidence interval is',value[1])"
   ]
  },
  {
   "cell_type": "code",
   "execution_count": 4,
   "metadata": {
    "collapsed": false
   },
   "outputs": [
    {
     "data": {
      "text/plain": [
       "(30.484155330879997, [30.476288049289629, 30.492022612470365])"
      ]
     },
     "execution_count": 4,
     "metadata": {},
     "output_type": "execute_result"
    }
   ],
   "source": [
    "abop.value()"
   ]
  },
  {
   "cell_type": "code",
   "execution_count": null,
   "metadata": {
    "collapsed": true
   },
   "outputs": [],
   "source": []
  }
 ],
 "metadata": {
  "kernelspec": {
   "display_name": "Python [conda root]",
   "language": "python",
   "name": "conda-root-py"
  },
  "language_info": {
   "codemirror_mode": {
    "name": "ipython",
    "version": 3
   },
   "file_extension": ".py",
   "mimetype": "text/x-python",
   "name": "python",
   "nbconvert_exporter": "python",
   "pygments_lexer": "ipython3",
   "version": "3.5.2"
  }
 },
 "nbformat": 4,
 "nbformat_minor": 1
}
