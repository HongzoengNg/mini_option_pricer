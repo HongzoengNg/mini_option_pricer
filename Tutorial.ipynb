{
 "cells": [
  {
   "cell_type": "markdown",
   "metadata": {},
   "source": [
    "# Mini Option Pricer Tutorial\n",
    "------\n",
    "## 1. European Option Pricer\n",
    "`mini_option_pricer.euro_option_pricer` \n",
    "- *Initialize with parameters : future_type, asset_price, strike_price,  mature_time, vol, rate,repo_q*\n",
    "- *future type should be 'c' for call and 'p' for put*\n",
    "- *maturity time is in year*"
   ]
  },
  {
   "cell_type": "code",
   "execution_count": 5,
   "metadata": {
    "collapsed": false
   },
   "outputs": [
    {
     "data": {
      "text/plain": [
       "22.089150041203411"
      ]
     },
     "execution_count": 5,
     "metadata": {},
     "output_type": "execute_result"
    }
   ],
   "source": [
    "import euro_option_pricer as eop\n",
    "\n",
    "# Create a european option class\n",
    "eopx=eop.euro_opt('c',100,80,0.5,0.3,0.02,0)\n",
    "# return its value\n",
    "eopx.value()"
   ]
  },
  {
   "cell_type": "markdown",
   "metadata": {},
   "source": [
    "## 2. Implied Volatility Calculation\n",
    "`mini_option_pricer.implied_vol` \n",
    "- *Initialize with parameters : Type,S0,K,T,r,q,V,tol=1e-8,sigmadiff=1,iter_num=200*\n",
    "- *future type should be 'c' for call and 'p' for put*\n",
    "- *maturity time is in year*\n",
    "- *q : repo rate*\n",
    "- *V : observable value of option*"
   ]
  },
  {
   "cell_type": "code",
   "execution_count": 10,
   "metadata": {
    "collapsed": false
   },
   "outputs": [
    {
     "data": {
      "text/plain": [
       "3.6480558559801208"
      ]
     },
     "execution_count": 10,
     "metadata": {},
     "output_type": "execute_result"
    }
   ],
   "source": [
    "import implied_vol as ipv\n",
    "\n",
    "ipv.imp_vol('c',100,80,0.5,0.02,0,82.5)"
   ]
  },
  {
   "cell_type": "code",
   "execution_count": null,
   "metadata": {
    "collapsed": true
   },
   "outputs": [],
   "source": []
  },
  {
   "cell_type": "code",
   "execution_count": null,
   "metadata": {
    "collapsed": true
   },
   "outputs": [],
   "source": []
  },
  {
   "cell_type": "code",
   "execution_count": null,
   "metadata": {
    "collapsed": true
   },
   "outputs": [],
   "source": []
  },
  {
   "cell_type": "code",
   "execution_count": null,
   "metadata": {
    "collapsed": true
   },
   "outputs": [],
   "source": []
  },
  {
   "cell_type": "code",
   "execution_count": 2,
   "metadata": {
    "collapsed": true
   },
   "outputs": [],
   "source": [
    "import aritasian_option_pricer as aaop\n",
    "import aritbasket_option_pricer as abop"
   ]
  },
  {
   "cell_type": "code",
   "execution_count": 3,
   "metadata": {
    "collapsed": true
   },
   "outputs": [],
   "source": [
    "abop=abop.aritbasket_opt('c',100,100,3,80,0.05,0.3,0.3,0.5)\n",
    "# future_type, asset_price1, asset_price2,mature_time,strike_price,rate,vol1,vol2,rol"
   ]
  },
  {
   "cell_type": "code",
   "execution_count": 4,
   "metadata": {
    "collapsed": false
   },
   "outputs": [
    {
     "data": {
      "text/plain": [
       "(30.484155330879997, [30.476288049289629, 30.492022612470365])"
      ]
     },
     "execution_count": 4,
     "metadata": {},
     "output_type": "execute_result"
    }
   ],
   "source": [
    "abop.value()"
   ]
  },
  {
   "cell_type": "code",
   "execution_count": null,
   "metadata": {
    "collapsed": true
   },
   "outputs": [],
   "source": []
  }
 ],
 "metadata": {
  "kernelspec": {
   "display_name": "Python [conda root]",
   "language": "python",
   "name": "conda-root-py"
  },
  "language_info": {
   "codemirror_mode": {
    "name": "ipython",
    "version": 3
   },
   "file_extension": ".py",
   "mimetype": "text/x-python",
   "name": "python",
   "nbconvert_exporter": "python",
   "pygments_lexer": "ipython3",
   "version": "3.5.2"
  }
 },
 "nbformat": 4,
 "nbformat_minor": 1
}
